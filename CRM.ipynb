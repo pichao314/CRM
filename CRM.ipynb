{
 "cells": [
  {
   "cell_type": "code",
   "execution_count": null,
   "metadata": {},
   "outputs": [],
   "source": [
    "import pandas as pd \n",
    "import numpy as np \n",
    "import matplotlib.pyplot as plt\n",
    "import seaborn as sns\n",
    "\n",
    "data = pd.read_csv('bank-additional/bank-additional-full.csv')\n",
    "data.head()"
   ]
  },
  {
   "cell_type": "code",
   "execution_count": null,
   "metadata": {},
   "outputs": [],
   "source": [
    "label = ['age','job',\"marital\",\"education\",\"default\",\"housing\",\"loan\",\"contact\",\"month\",\"day_of_week\",\"duration\",\"campaign\",\"pdays\",\"previous\",\"poutcome\",\"emp.var.rate\",\"cons.price.idx\",\"cons.conf.idx\",\"euribor3m\",\"nr.employed\",\"y\"]\n",
    "for i in data:\n",
    "    value = data[i][:].str.split(';')\n",
    "\n",
    "for i in range(len(value)):\n",
    "    for j in range(len(value[i])):\n",
    "        if '\"' in value[i][j]:\n",
    "            value[i][j] = value[i][j][1:-1]"
   ]
  },
  {
   "cell_type": "code",
   "execution_count": null,
   "metadata": {},
   "outputs": [],
   "source": [
    "temp = []\n",
    "for index in range(len(value)):\n",
    "    index = pd.DataFrame({label[i]: [value[index][i]] for i in range(len(label))})\n",
    "    temp.append(index)\n",
    "\n",
    "result = pd.concat(temp, ignore_index=True)"
   ]
  },
  {
   "cell_type": "code",
   "execution_count": null,
   "metadata": {},
   "outputs": [],
   "source": [
    "result.head()"
   ]
  },
  {
   "cell_type": "code",
   "execution_count": null,
   "metadata": {},
   "outputs": [],
   "source": [
    "result.to_csv('original_data.csv')"
   ]
  },
  {
   "cell_type": "code",
   "execution_count": null,
   "metadata": {},
   "outputs": [],
   "source": [
    "from matplotlib import pyplot as plt\n",
    "import seaborn as sns\n",
    "\n",
    "plt.figure(figsize=(20, 20)) \n",
    "corr = data.corr()\n",
    "h1 = sns.heatmap(corr, square=True, linewidths=.5, annot=True, fmt='.2f', cmap='coolwarm')"
   ]
  },
  {
   "cell_type": "code",
   "execution_count": null,
   "metadata": {},
   "outputs": [],
   "source": [
    "from matplotlib import pyplot as plt\n",
    "#\n",
    "df1 = data.y.value_counts().plot(figsize = (5,5),kind='pie',legend= True,title='CRM Term Deposit',fontsize=15,autopct='%.2f')\n"
   ]
  },
  {
   "cell_type": "markdown",
   "metadata": {},
   "source": [
    "# Check missing value"
   ]
  },
  {
   "cell_type": "code",
   "execution_count": 5,
   "metadata": {},
   "outputs": [
    {
     "data": {
      "text/html": [
       "<div>\n",
       "<style scoped>\n",
       "    .dataframe tbody tr th:only-of-type {\n",
       "        vertical-align: middle;\n",
       "    }\n",
       "\n",
       "    .dataframe tbody tr th {\n",
       "        vertical-align: top;\n",
       "    }\n",
       "\n",
       "    .dataframe thead th {\n",
       "        text-align: right;\n",
       "    }\n",
       "</style>\n",
       "<table border=\"1\" class=\"dataframe\">\n",
       "  <thead>\n",
       "    <tr style=\"text-align: right;\">\n",
       "      <th></th>\n",
       "      <th>Unnamed: 0</th>\n",
       "      <th>age</th>\n",
       "      <th>job</th>\n",
       "      <th>marital</th>\n",
       "      <th>education</th>\n",
       "      <th>default</th>\n",
       "      <th>housing</th>\n",
       "      <th>loan</th>\n",
       "      <th>contact</th>\n",
       "      <th>month</th>\n",
       "      <th>...</th>\n",
       "      <th>campaign</th>\n",
       "      <th>pdays</th>\n",
       "      <th>previous</th>\n",
       "      <th>poutcome</th>\n",
       "      <th>emp.var.rate</th>\n",
       "      <th>cons.price.idx</th>\n",
       "      <th>cons.conf.idx</th>\n",
       "      <th>euribor3m</th>\n",
       "      <th>nr.employed</th>\n",
       "      <th>y</th>\n",
       "    </tr>\n",
       "  </thead>\n",
       "  <tbody>\n",
       "    <tr>\n",
       "      <th>0</th>\n",
       "      <td>0</td>\n",
       "      <td>56</td>\n",
       "      <td>housemaid</td>\n",
       "      <td>married</td>\n",
       "      <td>basic.4y</td>\n",
       "      <td>no</td>\n",
       "      <td>no</td>\n",
       "      <td>no</td>\n",
       "      <td>telephone</td>\n",
       "      <td>may</td>\n",
       "      <td>...</td>\n",
       "      <td>1</td>\n",
       "      <td>999</td>\n",
       "      <td>0</td>\n",
       "      <td>nonexistent</td>\n",
       "      <td>1.1</td>\n",
       "      <td>93.994</td>\n",
       "      <td>-36.4</td>\n",
       "      <td>4.857</td>\n",
       "      <td>5191.0</td>\n",
       "      <td>no</td>\n",
       "    </tr>\n",
       "    <tr>\n",
       "      <th>1</th>\n",
       "      <td>1</td>\n",
       "      <td>57</td>\n",
       "      <td>services</td>\n",
       "      <td>married</td>\n",
       "      <td>high.school</td>\n",
       "      <td>unknown</td>\n",
       "      <td>no</td>\n",
       "      <td>no</td>\n",
       "      <td>telephone</td>\n",
       "      <td>may</td>\n",
       "      <td>...</td>\n",
       "      <td>1</td>\n",
       "      <td>999</td>\n",
       "      <td>0</td>\n",
       "      <td>nonexistent</td>\n",
       "      <td>1.1</td>\n",
       "      <td>93.994</td>\n",
       "      <td>-36.4</td>\n",
       "      <td>4.857</td>\n",
       "      <td>5191.0</td>\n",
       "      <td>no</td>\n",
       "    </tr>\n",
       "    <tr>\n",
       "      <th>2</th>\n",
       "      <td>2</td>\n",
       "      <td>37</td>\n",
       "      <td>services</td>\n",
       "      <td>married</td>\n",
       "      <td>high.school</td>\n",
       "      <td>no</td>\n",
       "      <td>yes</td>\n",
       "      <td>no</td>\n",
       "      <td>telephone</td>\n",
       "      <td>may</td>\n",
       "      <td>...</td>\n",
       "      <td>1</td>\n",
       "      <td>999</td>\n",
       "      <td>0</td>\n",
       "      <td>nonexistent</td>\n",
       "      <td>1.1</td>\n",
       "      <td>93.994</td>\n",
       "      <td>-36.4</td>\n",
       "      <td>4.857</td>\n",
       "      <td>5191.0</td>\n",
       "      <td>no</td>\n",
       "    </tr>\n",
       "    <tr>\n",
       "      <th>3</th>\n",
       "      <td>3</td>\n",
       "      <td>40</td>\n",
       "      <td>admin.</td>\n",
       "      <td>married</td>\n",
       "      <td>basic.6y</td>\n",
       "      <td>no</td>\n",
       "      <td>no</td>\n",
       "      <td>no</td>\n",
       "      <td>telephone</td>\n",
       "      <td>may</td>\n",
       "      <td>...</td>\n",
       "      <td>1</td>\n",
       "      <td>999</td>\n",
       "      <td>0</td>\n",
       "      <td>nonexistent</td>\n",
       "      <td>1.1</td>\n",
       "      <td>93.994</td>\n",
       "      <td>-36.4</td>\n",
       "      <td>4.857</td>\n",
       "      <td>5191.0</td>\n",
       "      <td>no</td>\n",
       "    </tr>\n",
       "    <tr>\n",
       "      <th>4</th>\n",
       "      <td>4</td>\n",
       "      <td>56</td>\n",
       "      <td>services</td>\n",
       "      <td>married</td>\n",
       "      <td>high.school</td>\n",
       "      <td>no</td>\n",
       "      <td>no</td>\n",
       "      <td>yes</td>\n",
       "      <td>telephone</td>\n",
       "      <td>may</td>\n",
       "      <td>...</td>\n",
       "      <td>1</td>\n",
       "      <td>999</td>\n",
       "      <td>0</td>\n",
       "      <td>nonexistent</td>\n",
       "      <td>1.1</td>\n",
       "      <td>93.994</td>\n",
       "      <td>-36.4</td>\n",
       "      <td>4.857</td>\n",
       "      <td>5191.0</td>\n",
       "      <td>no</td>\n",
       "    </tr>\n",
       "  </tbody>\n",
       "</table>\n",
       "<p>5 rows × 22 columns</p>\n",
       "</div>"
      ],
      "text/plain": [
       "   Unnamed: 0  age        job  marital    education  default housing loan  \\\n",
       "0           0   56  housemaid  married     basic.4y       no      no   no   \n",
       "1           1   57   services  married  high.school  unknown      no   no   \n",
       "2           2   37   services  married  high.school       no     yes   no   \n",
       "3           3   40     admin.  married     basic.6y       no      no   no   \n",
       "4           4   56   services  married  high.school       no      no  yes   \n",
       "\n",
       "     contact month  ... campaign  pdays  previous     poutcome  emp.var.rate  \\\n",
       "0  telephone   may  ...        1    999         0  nonexistent           1.1   \n",
       "1  telephone   may  ...        1    999         0  nonexistent           1.1   \n",
       "2  telephone   may  ...        1    999         0  nonexistent           1.1   \n",
       "3  telephone   may  ...        1    999         0  nonexistent           1.1   \n",
       "4  telephone   may  ...        1    999         0  nonexistent           1.1   \n",
       "\n",
       "  cons.price.idx  cons.conf.idx  euribor3m  nr.employed   y  \n",
       "0         93.994          -36.4      4.857       5191.0  no  \n",
       "1         93.994          -36.4      4.857       5191.0  no  \n",
       "2         93.994          -36.4      4.857       5191.0  no  \n",
       "3         93.994          -36.4      4.857       5191.0  no  \n",
       "4         93.994          -36.4      4.857       5191.0  no  \n",
       "\n",
       "[5 rows x 22 columns]"
      ]
     },
     "execution_count": 5,
     "metadata": {},
     "output_type": "execute_result"
    }
   ],
   "source": [
    "import pandas as pd \n",
    "\n",
    "data = pd.read_csv('original_data.csv')\n",
    "data.head()"
   ]
  },
  {
   "cell_type": "code",
   "execution_count": 6,
   "metadata": {},
   "outputs": [],
   "source": [
    "missing_dict = {}\n",
    "for col in data.columns:\n",
    "    missing_dict[col] = 0\n",
    "    for item in data[col]:\n",
    "        if item == 'unknown':\n",
    "            missing_dict[col] += 1"
   ]
  },
  {
   "cell_type": "code",
   "execution_count": 7,
   "metadata": {},
   "outputs": [
    {
     "data": {
      "text/plain": [
       "{'Unnamed: 0': 0,\n",
       " 'age': 0,\n",
       " 'job': 330,\n",
       " 'marital': 80,\n",
       " 'education': 1731,\n",
       " 'default': 8597,\n",
       " 'housing': 990,\n",
       " 'loan': 990,\n",
       " 'contact': 0,\n",
       " 'month': 0,\n",
       " 'day_of_week': 0,\n",
       " 'duration': 0,\n",
       " 'campaign': 0,\n",
       " 'pdays': 0,\n",
       " 'previous': 0,\n",
       " 'poutcome': 0,\n",
       " 'emp.var.rate': 0,\n",
       " 'cons.price.idx': 0,\n",
       " 'cons.conf.idx': 0,\n",
       " 'euribor3m': 0,\n",
       " 'nr.employed': 0,\n",
       " 'y': 0}"
      ]
     },
     "execution_count": 7,
     "metadata": {},
     "output_type": "execute_result"
    }
   ],
   "source": [
    "missing_dict"
   ]
  },
  {
   "cell_type": "markdown",
   "metadata": {},
   "source": [
    "# 1. Set missing data = unknown"
   ]
  },
  {
   "cell_type": "code",
   "execution_count": 8,
   "metadata": {},
   "outputs": [],
   "source": [
    "udata = data.drop(['Unnamed: 0','emp.var.rate',\n",
    "       'cons.price.idx', 'cons.conf.idx', 'euribor3m', 'nr.employed'], axis = 1)"
   ]
  },
  {
   "cell_type": "code",
   "execution_count": 9,
   "metadata": {},
   "outputs": [],
   "source": [
    "from sklearn.preprocessing import LabelEncoder\n",
    "from sklearn.model_selection import cross_val_score, train_test_split\n",
    "\n",
    "le1 = LabelEncoder()\n",
    "for label in udata.columns:\n",
    "    udata[label]= le1.fit_transform(udata[label])\n",
    "    "
   ]
  },
  {
   "cell_type": "code",
   "execution_count": 10,
   "metadata": {},
   "outputs": [],
   "source": [
    "from sklearn.model_selection import train_test_split \n",
    "\n",
    "ux = udata.drop('y', axis = 1)\n",
    "uy = udata['y']\n",
    "\n",
    "uX_train, uX_test, uY_train, uY_test = train_test_split(ux, uy, test_size = 0.2)"
   ]
  },
  {
   "cell_type": "markdown",
   "metadata": {},
   "source": [
    "# 2. Using Decision Tree or Navie Bayes to impute missing value"
   ]
  },
  {
   "cell_type": "code",
   "execution_count": 32,
   "metadata": {},
   "outputs": [],
   "source": [
    "pdata = pd.read_csv('original_data.csv')"
   ]
  },
  {
   "cell_type": "code",
   "execution_count": 33,
   "metadata": {},
   "outputs": [],
   "source": [
    "pdata = pdata.drop(['Unnamed: 0','emp.var.rate',\n",
    "       'cons.price.idx', 'cons.conf.idx', 'euribor3m', 'nr.employed'], axis = 1)"
   ]
  },
  {
   "cell_type": "code",
   "execution_count": 34,
   "metadata": {},
   "outputs": [],
   "source": [
    "col = pdata.columns.tolist()"
   ]
  },
  {
   "cell_type": "code",
   "execution_count": 35,
   "metadata": {},
   "outputs": [],
   "source": [
    "from sklearn.preprocessing import LabelEncoder\n",
    "\n",
    "le2 = LabelEncoder()\n",
    "for label in pdata.columns:\n",
    "    pdata[label]= le2.fit_transform(pdata[label])"
   ]
  },
  {
   "cell_type": "markdown",
   "metadata": {},
   "source": [
    "## 1) Predict job missing value"
   ]
  },
  {
   "cell_type": "code",
   "execution_count": 36,
   "metadata": {},
   "outputs": [],
   "source": [
    "job_missing = []\n",
    "job_index = []\n",
    "\n",
    "for i, row in pdata.iterrows():\n",
    "    if row[1] == 11:\n",
    "        job_missing.append(row)\n",
    "        job_index.append(i)"
   ]
  },
  {
   "cell_type": "code",
   "execution_count": 38,
   "metadata": {},
   "outputs": [],
   "source": [
    "job_data = pdata.drop(job_index)"
   ]
  },
  {
   "cell_type": "code",
   "execution_count": 39,
   "metadata": {},
   "outputs": [],
   "source": [
    "job_test = pd.DataFrame(job_missing, columns = col)\n",
    "job_test = job_test.drop('job', axis = 1)"
   ]
  },
  {
   "cell_type": "code",
   "execution_count": 42,
   "metadata": {},
   "outputs": [
    {
     "name": "stdout",
     "output_type": "stream",
     "text": [
      "accuracy of DT: 0.4029613313754283\n",
      "accuracy of NB: 0.35952031326480666\n"
     ]
    }
   ],
   "source": [
    "from sklearn.model_selection import train_test_split \n",
    "from sklearn.metrics import accuracy_score\n",
    "\n",
    "job_x = job_data.drop('job', axis = 1)\n",
    "job_y = job_data['job']\n",
    "\n",
    "X_train, X_test, Y_train, Y_test = train_test_split(job_x, job_y, test_size = 0.2)\n",
    "\n",
    "\n",
    "DT = DecisionTreeClassifier()\n",
    "DT.fit(X_train, Y_train)\n",
    "\n",
    "from sklearn.naive_bayes import GaussianNB\n",
    "\n",
    "NB = GaussianNB()\n",
    "NB.fit(X_train, Y_train)\n",
    "\n",
    "Y_pred1 = NB.predict(X_test)\n",
    "Y_pred2 = DT.predict(X_test)\n",
    "\n",
    "print('accuracy of DT:', accuracy_score(Y_test, Y_pred2))\n",
    "print('accuracy of NB:', accuracy_score(Y_test, Y_pred1))\n"
   ]
  },
  {
   "cell_type": "markdown",
   "metadata": {},
   "source": [
    "Since the predict accuracy is very low, we decide not to predict job missing value"
   ]
  },
  {
   "cell_type": "markdown",
   "metadata": {},
   "source": [
    "## 2) Predict marital missing value"
   ]
  },
  {
   "cell_type": "code",
   "execution_count": 43,
   "metadata": {},
   "outputs": [],
   "source": [
    "marital_missing = []\n",
    "marital_index = []\n",
    "for i, row in pdata.iterrows():\n",
    "    if row[2] == 3:\n",
    "        marital_missing.append(row)\n",
    "        marital_index.append(i)"
   ]
  },
  {
   "cell_type": "code",
   "execution_count": 44,
   "metadata": {},
   "outputs": [],
   "source": [
    "marital_data = pdata.drop(marital_index)"
   ]
  },
  {
   "cell_type": "code",
   "execution_count": 45,
   "metadata": {},
   "outputs": [],
   "source": [
    "marital_test = pd.DataFrame(marital_missing, columns = col)\n",
    "marital_test = marital_test.drop('marital', axis = 1)"
   ]
  },
  {
   "cell_type": "code",
   "execution_count": 46,
   "metadata": {},
   "outputs": [
    {
     "name": "stdout",
     "output_type": "stream",
     "text": [
      "accuracy of DT: 0.5861104354171734\n",
      "accuracy of NB: 0.6286791534906349\n"
     ]
    }
   ],
   "source": [
    "marital_x = marital_data.drop('marital', axis = 1)\n",
    "marital_y = marital_data['marital']\n",
    "X_train, X_test, Y_train, Y_test = train_test_split(marital_x, marital_y, test_size = 0.2)\n",
    "\n",
    "\n",
    "DT = DecisionTreeClassifier()\n",
    "DT.fit(X_train, Y_train)\n",
    "\n",
    "from sklearn.naive_bayes import GaussianNB\n",
    "\n",
    "NB = GaussianNB()\n",
    "NB.fit(X_train, Y_train)\n",
    "\n",
    "Y_pred1 = NB.predict(X_test)\n",
    "Y_pred2 = DT.predict(X_test)\n",
    "\n",
    "print('accuracy of DT:', accuracy_score(Y_test, Y_pred2))\n",
    "print('accuracy of NB:', accuracy_score(Y_test, Y_pred1))"
   ]
  },
  {
   "cell_type": "markdown",
   "metadata": {},
   "source": [
    "Since navie bayes got an acceptable result, we use it to predict marital missing value"
   ]
  },
  {
   "cell_type": "code",
   "execution_count": 47,
   "metadata": {},
   "outputs": [],
   "source": [
    "NB = GaussianNB()\n",
    "NB.fit(marital_x, marital_y)\n",
    "\n",
    "Y_pred3 = NB.predict(marital_test)"
   ]
  },
  {
   "cell_type": "code",
   "execution_count": 48,
   "metadata": {},
   "outputs": [
    {
     "name": "stderr",
     "output_type": "stream",
     "text": [
      "/Library/Frameworks/Python.framework/Versions/3.7/lib/python3.7/site-packages/ipykernel_launcher.py:2: FutureWarning: Sorting because non-concatenation axis is not aligned. A future version\n",
      "of pandas will change to not sort by default.\n",
      "\n",
      "To accept the future behavior, pass 'sort=False'.\n",
      "\n",
      "To retain the current behavior and silence the warning, pass 'sort=True'.\n",
      "\n",
      "  \n"
     ]
    }
   ],
   "source": [
    "marital_test['marital'] = Y_pred3\n",
    "pdata = pd.concat([marital_data, marital_test])"
   ]
  },
  {
   "cell_type": "markdown",
   "metadata": {},
   "source": [
    "## 3) Predict education missing value"
   ]
  },
  {
   "cell_type": "code",
   "execution_count": 49,
   "metadata": {},
   "outputs": [],
   "source": [
    "education_missing = []\n",
    "education_index = []\n",
    "\n",
    "for i, row in pdata.iterrows():\n",
    "    if row[6] == 7:\n",
    "        education_missing.append(row)\n",
    "        education_index.append(i)"
   ]
  },
  {
   "cell_type": "code",
   "execution_count": 51,
   "metadata": {},
   "outputs": [],
   "source": [
    "education_data = pdata.drop(education_index)\n",
    "\n",
    "education_test = pd.DataFrame(education_missing, columns = col)\n",
    "education_test = education_test.drop('education', axis = 1)"
   ]
  },
  {
   "cell_type": "code",
   "execution_count": 52,
   "metadata": {},
   "outputs": [
    {
     "name": "stdout",
     "output_type": "stream",
     "text": [
      "accuracy of DT: 0.43411049163710086\n",
      "accuracy of NB: 0.2659655347187025\n"
     ]
    }
   ],
   "source": [
    "education_x = education_data.drop('education', axis = 1)\n",
    "education_y = education_data['education']\n",
    "X_train, X_test, Y_train, Y_test = train_test_split(education_x, education_y, test_size = 0.2)\n",
    "\n",
    "\n",
    "DT = DecisionTreeClassifier()\n",
    "DT.fit(X_train, Y_train)\n",
    "\n",
    "from sklearn.naive_bayes import GaussianNB\n",
    "\n",
    "NB = GaussianNB()\n",
    "NB.fit(X_train, Y_train)\n",
    "\n",
    "Y_pred1 = NB.predict(X_test)\n",
    "Y_pred2 = DT.predict(X_test)\n",
    "\n",
    "print('accuracy of DT:', accuracy_score(Y_test, Y_pred2))\n",
    "print('accuracy of NB:', accuracy_score(Y_test, Y_pred1))"
   ]
  },
  {
   "cell_type": "markdown",
   "metadata": {},
   "source": [
    "Same as previous description, we don't predict education missing value"
   ]
  },
  {
   "cell_type": "markdown",
   "metadata": {},
   "source": [
    "## 4) Predict default missing value"
   ]
  },
  {
   "cell_type": "code",
   "execution_count": 53,
   "metadata": {},
   "outputs": [],
   "source": [
    "default_missing  = []\n",
    "default_index = []\n",
    "\n",
    "for i, row in pdata.iterrows():\n",
    "    if row[4] == 1:\n",
    "        default_missing.append(row)\n",
    "        default_index.append(i)\n"
   ]
  },
  {
   "cell_type": "code",
   "execution_count": 54,
   "metadata": {},
   "outputs": [],
   "source": [
    "default_data = pdata.drop(default_index)\n",
    "default_test = pd.DataFrame(default_missing, columns = col)\n",
    "default_test = default_test.drop('default', axis = 1)"
   ]
  },
  {
   "cell_type": "code",
   "execution_count": 55,
   "metadata": {},
   "outputs": [
    {
     "name": "stdout",
     "output_type": "stream",
     "text": [
      "accuracy of DT: 0.7208565636087176\n",
      "accuracy of NB: 0.5115306639635073\n"
     ]
    }
   ],
   "source": [
    "default_x = education_data.drop('default', axis = 1)\n",
    "default_y = education_data['default']\n",
    "X_train, X_test, Y_train, Y_test = train_test_split(default_x, default_y, test_size = 0.2)\n",
    "\n",
    "\n",
    "DT = DecisionTreeClassifier()\n",
    "DT.fit(X_train, Y_train)\n",
    "\n",
    "from sklearn.naive_bayes import GaussianNB\n",
    "\n",
    "NB = GaussianNB()\n",
    "NB.fit(X_train, Y_train)\n",
    "\n",
    "Y_pred1 = NB.predict(X_test)\n",
    "Y_pred2 = DT.predict(X_test)\n",
    "\n",
    "print('accuracy of DT:', accuracy_score(Y_test, Y_pred2))\n",
    "print('accuracy of NB:', accuracy_score(Y_test, Y_pred1))"
   ]
  },
  {
   "cell_type": "markdown",
   "metadata": {},
   "source": [
    "Use Decision Tree to predict default missing value"
   ]
  },
  {
   "cell_type": "code",
   "execution_count": 56,
   "metadata": {},
   "outputs": [],
   "source": [
    "DT = DecisionTreeClassifier()\n",
    "DT.fit(default_x, default_y)\n",
    "default_pred = DT.predict(default_test)\n"
   ]
  },
  {
   "cell_type": "code",
   "execution_count": 57,
   "metadata": {},
   "outputs": [
    {
     "name": "stderr",
     "output_type": "stream",
     "text": [
      "/Library/Frameworks/Python.framework/Versions/3.7/lib/python3.7/site-packages/ipykernel_launcher.py:2: FutureWarning: Sorting because non-concatenation axis is not aligned. A future version\n",
      "of pandas will change to not sort by default.\n",
      "\n",
      "To accept the future behavior, pass 'sort=False'.\n",
      "\n",
      "To retain the current behavior and silence the warning, pass 'sort=True'.\n",
      "\n",
      "  \n"
     ]
    }
   ],
   "source": [
    "default_test['default'] = default_pred\n",
    "pdata = pd.concat([default_data, default_test])"
   ]
  },
  {
   "cell_type": "markdown",
   "metadata": {},
   "source": [
    "## 5) Predict housing missing value"
   ]
  },
  {
   "cell_type": "code",
   "execution_count": 58,
   "metadata": {},
   "outputs": [],
   "source": [
    "housing_missing = []\n",
    "housing_index = []\n",
    "for i, row in pdata.iterrows():\n",
    "    if row[7] == 1:\n",
    "        housing_missing.append(row)\n",
    "        housing_index.append(i)\n"
   ]
  },
  {
   "cell_type": "code",
   "execution_count": 59,
   "metadata": {},
   "outputs": [],
   "source": [
    "housing_data = pdata.drop(housing_index)\n",
    "housing_test = pd.DataFrame(housing_missing, columns = col)\n",
    "housing_test = housing_test.drop('housing', axis = 1)"
   ]
  },
  {
   "cell_type": "code",
   "execution_count": 60,
   "metadata": {},
   "outputs": [
    {
     "name": "stdout",
     "output_type": "stream",
     "text": [
      "accuracy of DT: 0.5064676616915423\n",
      "accuracy of NB: 0.5322139303482587\n"
     ]
    }
   ],
   "source": [
    "housing_x = housing_data.drop('housing', axis = 1)\n",
    "housing_y = housing_data['housing']\n",
    "X_train, X_test, Y_train, Y_test = train_test_split(housing_x, housing_y, test_size = 0.2)\n",
    "\n",
    "\n",
    "DT = DecisionTreeClassifier()\n",
    "DT.fit(X_train, Y_train)\n",
    "\n",
    "from sklearn.naive_bayes import GaussianNB\n",
    "\n",
    "NB = GaussianNB()\n",
    "NB.fit(X_train, Y_train)\n",
    "\n",
    "Y_pred1 = NB.predict(X_test)\n",
    "Y_pred2 = DT.predict(X_test)\n",
    "\n",
    "print('accuracy of DT:', accuracy_score(Y_test, Y_pred2))\n",
    "print('accuracy of NB:', accuracy_score(Y_test, Y_pred1))"
   ]
  },
  {
   "cell_type": "markdown",
   "metadata": {},
   "source": [
    "## 6) Predict loan missing value"
   ]
  },
  {
   "cell_type": "code",
   "execution_count": 61,
   "metadata": {},
   "outputs": [],
   "source": [
    "loan_missing = []\n",
    "loan_index = []\n",
    "for i, row in pdata.iterrows():\n",
    "    if row[9] == 1:\n",
    "        loan_missing.append(row)\n",
    "        loan_index.append(i)"
   ]
  },
  {
   "cell_type": "code",
   "execution_count": 62,
   "metadata": {},
   "outputs": [],
   "source": [
    "loan_data = pdata.drop(loan_index)\n",
    "loan_test = pd.DataFrame(loan_missing, columns = col)\n",
    "loan_test = loan_test.drop('loan', axis = 1)"
   ]
  },
  {
   "cell_type": "code",
   "execution_count": 63,
   "metadata": {},
   "outputs": [
    {
     "name": "stdout",
     "output_type": "stream",
     "text": [
      "accuracy of DT: 0.7215174129353233\n",
      "accuracy of NB: 0.8442786069651741\n"
     ]
    }
   ],
   "source": [
    "loan_x = loan_data.drop('loan', axis = 1)\n",
    "loan_y = loan_data['loan']\n",
    "X_train, X_test, Y_train, Y_test = train_test_split(loan_x, loan_y, test_size = 0.2)\n",
    "\n",
    "\n",
    "DT = DecisionTreeClassifier()\n",
    "DT.fit(X_train, Y_train)\n",
    "\n",
    "from sklearn.naive_bayes import GaussianNB\n",
    "\n",
    "NB = GaussianNB()\n",
    "NB.fit(X_train, Y_train)\n",
    "\n",
    "Y_pred1 = NB.predict(X_test)\n",
    "Y_pred2 = DT.predict(X_test)\n",
    "\n",
    "print('accuracy of DT:', accuracy_score(Y_test, Y_pred2))\n",
    "print('accuracy of NB:', accuracy_score(Y_test, Y_pred1))"
   ]
  },
  {
   "cell_type": "code",
   "execution_count": 64,
   "metadata": {},
   "outputs": [],
   "source": [
    "NB = DecisionTreeClassifier()\n",
    "NB.fit(loan_x, loan_y)\n",
    "loan_pred = NB.predict(loan_test)"
   ]
  },
  {
   "cell_type": "code",
   "execution_count": 65,
   "metadata": {},
   "outputs": [
    {
     "name": "stderr",
     "output_type": "stream",
     "text": [
      "/Library/Frameworks/Python.framework/Versions/3.7/lib/python3.7/site-packages/ipykernel_launcher.py:2: FutureWarning: Sorting because non-concatenation axis is not aligned. A future version\n",
      "of pandas will change to not sort by default.\n",
      "\n",
      "To accept the future behavior, pass 'sort=False'.\n",
      "\n",
      "To retain the current behavior and silence the warning, pass 'sort=True'.\n",
      "\n",
      "  \n"
     ]
    }
   ],
   "source": [
    "loan_test['loan'] = loan_pred\n",
    "pdata = pd.concat([loan_data, loan_test])"
   ]
  },
  {
   "cell_type": "markdown",
   "metadata": {},
   "source": [
    "## 7) Predict poutcome missing value"
   ]
  },
  {
   "cell_type": "code",
   "execution_count": 66,
   "metadata": {},
   "outputs": [],
   "source": [
    "poutcome_missing = []\n",
    "poutcome_index = []\n",
    "for i, row in pdata.iterrows():\n",
    "    if row[13] == 1:\n",
    "        poutcome_missing.append(row)\n",
    "        poutcome_index.append(i)"
   ]
  },
  {
   "cell_type": "code",
   "execution_count": 67,
   "metadata": {},
   "outputs": [],
   "source": [
    "poutcome_data = pdata.drop(poutcome_index)\n",
    "poutcome_test = pd.DataFrame(poutcome_missing, columns = col)\n",
    "poutcome_test = poutcome_test.drop('poutcome', axis = 1)"
   ]
  },
  {
   "cell_type": "code",
   "execution_count": 68,
   "metadata": {},
   "outputs": [
    {
     "name": "stdout",
     "output_type": "stream",
     "text": [
      "accuracy of DT: 0.968\n",
      "accuracy of NB: 0.9635555555555556\n"
     ]
    }
   ],
   "source": [
    "poutcome_x = poutcome_data.drop('poutcome', axis = 1)\n",
    "poutcome_y = poutcome_data['poutcome']\n",
    "X_train, X_test, Y_train, Y_test = train_test_split(poutcome_x, poutcome_y, test_size = 0.2)\n",
    "\n",
    "\n",
    "DT = DecisionTreeClassifier()\n",
    "DT.fit(X_train, Y_train)\n",
    "\n",
    "from sklearn.naive_bayes import GaussianNB\n",
    "\n",
    "NB = GaussianNB()\n",
    "NB.fit(X_train, Y_train)\n",
    "\n",
    "Y_pred1 = NB.predict(X_test)\n",
    "Y_pred2 = DT.predict(X_test)\n",
    "\n",
    "print('accuracy of DT:', accuracy_score(Y_test, Y_pred2))\n",
    "print('accuracy of NB:', accuracy_score(Y_test, Y_pred1))"
   ]
  },
  {
   "cell_type": "code",
   "execution_count": 69,
   "metadata": {},
   "outputs": [],
   "source": [
    "DT = GaussianNB()\n",
    "DT.fit(poutcome_x, poutcome_y)\n",
    "poutcome_pred = DT.predict(poutcome_test)"
   ]
  },
  {
   "cell_type": "code",
   "execution_count": 70,
   "metadata": {},
   "outputs": [
    {
     "name": "stderr",
     "output_type": "stream",
     "text": [
      "/Library/Frameworks/Python.framework/Versions/3.7/lib/python3.7/site-packages/ipykernel_launcher.py:2: FutureWarning: Sorting because non-concatenation axis is not aligned. A future version\n",
      "of pandas will change to not sort by default.\n",
      "\n",
      "To accept the future behavior, pass 'sort=False'.\n",
      "\n",
      "To retain the current behavior and silence the warning, pass 'sort=True'.\n",
      "\n",
      "  \n"
     ]
    }
   ],
   "source": [
    "poutcome_test['poutcome'] = poutcome_pred\n",
    "pdata = pd.concat([poutcome_data, poutcome_test])"
   ]
  },
  {
   "cell_type": "code",
   "execution_count": 71,
   "metadata": {},
   "outputs": [],
   "source": [
    "from sklearn.model_selection import train_test_split \n",
    "\n",
    "px = pdata.drop('y', axis = 1)\n",
    "py = pdata['y']\n",
    "\n",
    "pX_train, pX_test, pY_train, pY_test = train_test_split(px, py, test_size = 0.2)"
   ]
  },
  {
   "cell_type": "code",
   "execution_count": null,
   "metadata": {},
   "outputs": [],
   "source": [
    "y_1 = [y1, y2, y3, y4, y5]"
   ]
  },
  {
   "cell_type": "markdown",
   "metadata": {},
   "source": [
    "# 3. Drop missing value"
   ]
  },
  {
   "cell_type": "code",
   "execution_count": 72,
   "metadata": {},
   "outputs": [],
   "source": [
    "mdata = pd.read_csv('original_data.csv')\n",
    "\n",
    "missing_list = []\n",
    "for i in range(len(mdata.index)):\n",
    "    if 'unknown' in mdata.iloc[i].values:\n",
    "        missing_list.append(i)"
   ]
  },
  {
   "cell_type": "code",
   "execution_count": 73,
   "metadata": {},
   "outputs": [],
   "source": [
    "mdata = mdata.drop(missing_list)\n",
    "mdata = mdata.drop(['Unnamed: 0','emp.var.rate',\n",
    "       'cons.price.idx', 'cons.conf.idx', 'euribor3m', 'nr.employed', 'poutcome'], axis = 1)"
   ]
  },
  {
   "cell_type": "code",
   "execution_count": 74,
   "metadata": {},
   "outputs": [],
   "source": [
    "from sklearn.preprocessing import LabelEncoder\n",
    "\n",
    "le3 = LabelEncoder()\n",
    "for label in mdata.columns:\n",
    "    mdata[label]= le3.fit_transform(mdata[label])"
   ]
  },
  {
   "cell_type": "code",
   "execution_count": 75,
   "metadata": {},
   "outputs": [],
   "source": [
    "mx = mdata.drop('y', axis = 1)\n",
    "my = mdata['y']\n",
    "\n",
    "mX_train, mX_test, mY_train, mY_test = train_test_split(mx, my, test_size = 0.2)"
   ]
  },
  {
   "cell_type": "markdown",
   "metadata": {},
   "source": [
    "# 1. Accuracy of unknown policy without using PCA"
   ]
  },
  {
   "cell_type": "code",
   "execution_count": 77,
   "metadata": {},
   "outputs": [
    {
     "name": "stdout",
     "output_type": "stream",
     "text": [
      "accuracy of MLPNN: 0.9079873755765963\n",
      "accuracy of NB: 0.8685360524399126\n"
     ]
    },
    {
     "name": "stderr",
     "output_type": "stream",
     "text": [
      "/Library/Frameworks/Python.framework/Versions/3.7/lib/python3.7/site-packages/sklearn/svm/base.py:193: FutureWarning: The default value of gamma will change from 'auto' to 'scale' in version 0.22 to account better for unscaled features. Set gamma explicitly to 'auto' or 'scale' to avoid this warning.\n",
      "  \"avoid this warning.\", FutureWarning)\n"
     ]
    },
    {
     "name": "stdout",
     "output_type": "stream",
     "text": [
      "accuracy of SVM: 0.888443797038116\n",
      "accuracy of KNN: 0.9000971109492595\n",
      "accuracy of DT: 0.8758193736343772\n"
     ]
    }
   ],
   "source": [
    "from sklearn.neural_network import MLPClassifier\n",
    "\n",
    "uml = MLPClassifier(activation = 'logistic', learning_rate = 'adaptive', max_iter = 1000, verbose = False)\n",
    "uml.fit(uX_train, uY_train)\n",
    "\n",
    "uy1 = uml.predict(uX_test)\n",
    "\n",
    "from sklearn.metrics import classification_report, confusion_matrix \n",
    "from sklearn.metrics import accuracy_score\n",
    "\n",
    "au1 = accuracy_score(uY_test, uy1)\n",
    "\n",
    "#print(classification_report(uY_test, uy1))\n",
    "#print(confusion_matrix(uY_test, uy1))\n",
    "print('accuracy of MLPNN:', au1)\n",
    "\n",
    "from sklearn.naive_bayes import GaussianNB\n",
    "\n",
    "unb = GaussianNB()\n",
    "unb.fit(uX_train, uY_train)\n",
    "\n",
    "uy2 = unb.predict(uX_test)\n",
    "au2 = accuracy_score(uY_test, uy2) \n",
    "\n",
    "#print(classification_report(uY_test, uy2))\n",
    "#print(confusion_matrix(uY_test, uy2))\n",
    "print('accuracy of NB:', au2)\n",
    "\n",
    "from sklearn.svm import SVC \n",
    "\n",
    "usvm = SVC()\n",
    "usvm.fit(uX_train, uY_train)\n",
    "\n",
    "uy3 = usvm.predict(uX_test)\n",
    "au3 = accuracy_score(uY_test, uy3)\n",
    "\n",
    "#print(classification_report(uY_test, uy3))\n",
    "#print(confusion_matrix(uY_test, uy3))\n",
    "print('accuracy of SVM:',au3)\n",
    "\n",
    "from sklearn.neighbors import KNeighborsClassifier\n",
    "\n",
    "uknn = KNeighborsClassifier(n_neighbors=5)\n",
    "uknn.fit(uX_train, uY_train)\n",
    "\n",
    "uy4 = uknn.predict(uX_test)\n",
    "au4 = accuracy_score(uY_test, uy4)\n",
    "\n",
    "#print(classification_report(uY_test, uy4))\n",
    "#print(confusion_matrix(uY_test, uy4))\n",
    "print('accuracy of KNN:', au4)\n",
    "\n",
    "from sklearn.tree import DecisionTreeClassifier, plot_tree, export_graphviz\n",
    "\n",
    "udt = DecisionTreeClassifier()\n",
    "udt.fit(uX_train, uY_train)\n",
    "\n",
    "uy5 = udt.predict(uX_test)\n",
    "au5 = accuracy_score(uY_test, uy5) \n",
    "\n",
    "#print(classification_report(uY_test, uy5))\n",
    "#print(confusion_matrix(uY_test, uy5))\n",
    "print('accuracy of DT:', au5)"
   ]
  },
  {
   "cell_type": "markdown",
   "metadata": {},
   "source": [
    "# 2. Accuracy of prediction policy without using PCA"
   ]
  },
  {
   "cell_type": "code",
   "execution_count": 78,
   "metadata": {},
   "outputs": [
    {
     "name": "stdout",
     "output_type": "stream",
     "text": [
      "accuracy of MLPNN: 0.9049526584122359\n",
      "accuracy of NB: 0.8962126729788784\n"
     ]
    },
    {
     "name": "stderr",
     "output_type": "stream",
     "text": [
      "/Library/Frameworks/Python.framework/Versions/3.7/lib/python3.7/site-packages/sklearn/svm/base.py:193: FutureWarning: The default value of gamma will change from 'auto' to 'scale' in version 0.22 to account better for unscaled features. Set gamma explicitly to 'auto' or 'scale' to avoid this warning.\n",
      "  \"avoid this warning.\", FutureWarning)\n"
     ]
    },
    {
     "name": "stdout",
     "output_type": "stream",
     "text": [
      "accuracy of SVM: 0.8863801893663511\n",
      "accuracy of KNN: 0.8867443554260743\n",
      "accuracy of DT: 0.872784656470017\n"
     ]
    }
   ],
   "source": [
    "from sklearn.neural_network import MLPClassifier\n",
    "\n",
    "pml = MLPClassifier(activation = 'logistic', learning_rate = 'adaptive', max_iter = 1000, verbose = False)\n",
    "pml.fit(pX_train, pY_train)\n",
    "\n",
    "py1 = pml.predict(pX_test)\n",
    "\n",
    "from sklearn.metrics import classification_report, confusion_matrix \n",
    "from sklearn.metrics import accuracy_score\n",
    "\n",
    "ap1 = accuracy_score(pY_test, py1)\n",
    "\n",
    "#print(classification_report(uY_test, uy1))\n",
    "#print(confusion_matrix(uY_test, uy1))\n",
    "print('accuracy of MLPNN:', ap1)\n",
    "\n",
    "from sklearn.naive_bayes import GaussianNB\n",
    "\n",
    "pnb = GaussianNB()\n",
    "pnb.fit(pX_train, pY_train)\n",
    "\n",
    "py2 = pnb.predict(pX_test)\n",
    "ap2 = accuracy_score(pY_test, py2) \n",
    "\n",
    "#print(classification_report(uY_test, uy2))\n",
    "#print(confusion_matrix(uY_test, uy2))\n",
    "print('accuracy of NB:', ap2)\n",
    "\n",
    "from sklearn.svm import SVC \n",
    "\n",
    "psvm = SVC()\n",
    "psvm.fit(pX_train, pY_train)\n",
    "\n",
    "py3 = psvm.predict(pX_test)\n",
    "ap3 = accuracy_score(pY_test, py3)\n",
    "\n",
    "#print(classification_report(uY_test, uy3))\n",
    "#print(confusion_matrix(uY_test, uy3))\n",
    "print('accuracy of SVM:',ap3)\n",
    "\n",
    "from sklearn.neighbors import KNeighborsClassifier\n",
    "\n",
    "pknn = KNeighborsClassifier(n_neighbors=5)\n",
    "pknn.fit(pX_train, pY_train)\n",
    "\n",
    "py4 = uknn.predict(pX_test)\n",
    "ap4 = accuracy_score(pY_test, py4)\n",
    "\n",
    "#print(classification_report(uY_test, uy4))\n",
    "#print(confusion_matrix(uY_test, uy4))\n",
    "print('accuracy of KNN:', ap4)\n",
    "\n",
    "from sklearn.tree import DecisionTreeClassifier, plot_tree, export_graphviz\n",
    "\n",
    "pdt = DecisionTreeClassifier()\n",
    "pdt.fit(pX_train, pY_train)\n",
    "\n",
    "py5 = pdt.predict(pX_test)\n",
    "ap5 = accuracy_score(pY_test, py5) \n",
    "\n",
    "#print(classification_report(uY_test, uy5))\n",
    "#print(confusion_matrix(uY_test, uy5))\n",
    "print('accuracy of DT:', ap5)"
   ]
  },
  {
   "cell_type": "markdown",
   "metadata": {},
   "source": [
    "# 3. Accuracy of drop policy withoud using PCA"
   ]
  },
  {
   "cell_type": "code",
   "execution_count": 79,
   "metadata": {},
   "outputs": [
    {
     "name": "stdout",
     "output_type": "stream",
     "text": [
      "accuracy of MLPNN: 0.8878320760905215\n",
      "accuracy of NB: 0.8773368317481142\n"
     ]
    },
    {
     "name": "stderr",
     "output_type": "stream",
     "text": [
      "/Library/Frameworks/Python.framework/Versions/3.7/lib/python3.7/site-packages/sklearn/svm/base.py:193: FutureWarning: The default value of gamma will change from 'auto' to 'scale' in version 0.22 to account better for unscaled features. Set gamma explicitly to 'auto' or 'scale' to avoid this warning.\n",
      "  \"avoid this warning.\", FutureWarning)\n"
     ]
    },
    {
     "name": "stdout",
     "output_type": "stream",
     "text": [
      "accuracy of SVM: 0.8696293866841588\n",
      "accuracy of KNN: 0.8820924893407674\n",
      "accuracy of DT: 0.8568383076418498\n"
     ]
    }
   ],
   "source": [
    "from sklearn.neural_network import MLPClassifier\n",
    "\n",
    "mml = MLPClassifier(activation = 'logistic', learning_rate = 'adaptive', max_iter = 1000, verbose = False)\n",
    "mml.fit(mX_train, mY_train)\n",
    "\n",
    "my1 = mml.predict(mX_test)\n",
    "\n",
    "from sklearn.metrics import classification_report, confusion_matrix \n",
    "from sklearn.metrics import accuracy_score\n",
    "\n",
    "am1 = accuracy_score(mY_test, my1)\n",
    "\n",
    "#print(classification_report(uY_test, uy1))\n",
    "#print(confusion_matrix(uY_test, uy1))\n",
    "print('accuracy of MLPNN:', am1)\n",
    "\n",
    "from sklearn.naive_bayes import GaussianNB\n",
    "\n",
    "mnb = GaussianNB()\n",
    "mnb.fit(mX_train, mY_train)\n",
    "\n",
    "my2 = mnb.predict(mX_test)\n",
    "am2 = accuracy_score(mY_test, my2) \n",
    "\n",
    "#print(classification_report(uY_test, uy2))\n",
    "#print(confusion_matrix(uY_test, uy2))\n",
    "print('accuracy of NB:', am2)\n",
    "\n",
    "from sklearn.svm import SVC \n",
    "\n",
    "msvm = SVC()\n",
    "msvm.fit(mX_train, mY_train)\n",
    "\n",
    "my3 = msvm.predict(mX_test)\n",
    "am3 = accuracy_score(mY_test, my3)\n",
    "\n",
    "#print(classification_report(uY_test, uy3))\n",
    "#print(confusion_matrix(uY_test, uy3))\n",
    "print('accuracy of SVM:',am3)\n",
    "\n",
    "from sklearn.neighbors import KNeighborsClassifier\n",
    "\n",
    "mknn = KNeighborsClassifier(n_neighbors=5)\n",
    "mknn.fit(mX_train, mY_train)\n",
    "\n",
    "my4 = mknn.predict(mX_test)\n",
    "am4 = accuracy_score(mY_test, my4)\n",
    "\n",
    "#print(classification_report(uY_test, uy4))\n",
    "#print(confusion_matrix(uY_test, uy4))\n",
    "print('accuracy of KNN:', am4)\n",
    "\n",
    "from sklearn.tree import DecisionTreeClassifier, plot_tree, export_graphviz\n",
    "\n",
    "mdt = DecisionTreeClassifier()\n",
    "mdt.fit(mX_train, mY_train)\n",
    "\n",
    "my5 = mdt.predict(mX_test)\n",
    "am5 = accuracy_score(mY_test, my5) \n",
    "\n",
    "#print(classification_report(uY_test, uy5))\n",
    "#print(confusion_matrix(uY_test, uy5))\n",
    "print('accuracy of DT:', am5)"
   ]
  },
  {
   "cell_type": "markdown",
   "metadata": {},
   "source": [
    "# Accuracy plot of three policy without using PCA"
   ]
  },
  {
   "cell_type": "code",
   "execution_count": 87,
   "metadata": {},
   "outputs": [
    {
     "data": {
      "image/png": "[encoded data removed]",
      "text/plain": [
       "<Figure size 576x360 with 1 Axes>"
      ]
     },
     "metadata": {
      "needs_background": "light"
     },
     "output_type": "display_data"
    }
   ],
   "source": [
    "import matplotlib.pyplot as plt\n",
    "\n",
    "x = [1, 2, 3 ,4 ,5 ]\n",
    "y1 = [au1, au2, au3, au4, au5]\n",
    "y2 = [ap1, ap2, ap3, ap4, ap5]\n",
    "y3 = [am1, am2, am3, am4, am5]\n",
    "\n",
    "plt.figure(figsize = (8, 5))\n",
    "plt.plot(x,y1,\"-\",x,y1,\"ro\",linewidth=1, label = 'Unknown') \n",
    "plt.plot(x,y2,\"--\", x,y2,\"bo\",linewidth=1, label = 'Predict') \n",
    "plt.plot(x,y3,\"-.\",x,y3,\"go\",linewidth=1, label = 'Drop') \n",
    "plt.xlabel(\"N model\") \n",
    "plt.ylabel(\"Accuracy\") \n",
    "plt.title(\"MLPNN -> NB -> SVM -> KNN -> DT\")  \n",
    "plt.legend()\n",
    "plt.show()  "
   ]
  },
  {
   "cell_type": "markdown",
   "metadata": {},
   "source": [
    "From the comparison result, we can see using 'unknown' to replace missing value can get the highest result, \n",
    "however, using prediction method, it has the lowest deviation between each model\n",
    "finally, directly dropping missing value cause the lowest accuracy"
   ]
  },
  {
   "cell_type": "markdown",
   "metadata": {},
   "source": [
    "# Accuracy of unknown policy with PCA = 5"
   ]
  },
  {
   "cell_type": "code",
   "execution_count": 88,
   "metadata": {},
   "outputs": [],
   "source": [
    "from sklearn.decomposition import PCA\n",
    "\n",
    "upca = PCA(n_components=5)\n",
    "ud = upca.fit_transform(uX_train)\n",
    "ut = upca.fit_transform(uX_test)"
   ]
  },
  {
   "cell_type": "code",
   "execution_count": 90,
   "metadata": {},
   "outputs": [
    {
     "name": "stdout",
     "output_type": "stream",
     "text": [
      "accuracy of MLPNN: 0.9025248846807478\n",
      "accuracy of NB: 0.9033746054867686\n"
     ]
    },
    {
     "name": "stderr",
     "output_type": "stream",
     "text": [
      "/Library/Frameworks/Python.framework/Versions/3.7/lib/python3.7/site-packages/sklearn/svm/base.py:193: FutureWarning: The default value of gamma will change from 'auto' to 'scale' in version 0.22 to account better for unscaled features. Set gamma explicitly to 'auto' or 'scale' to avoid this warning.\n",
      "  \"avoid this warning.\", FutureWarning)\n"
     ]
    },
    {
     "name": "stdout",
     "output_type": "stream",
     "text": [
      "accuracy of SVM: 0.888443797038116\n",
      "accuracy of KNN: 0.8980335032774945\n",
      "accuracy of DT: 0.7348871085214858\n"
     ]
    }
   ],
   "source": [
    "from sklearn.neural_network import MLPClassifier\n",
    "\n",
    "uml1 = MLPClassifier(activation = 'logistic', learning_rate = 'adaptive', max_iter = 1000, verbose = False)\n",
    "uml1.fit(ud, uY_train)\n",
    "\n",
    "uy11 = uml1.predict(ut)\n",
    "\n",
    "from sklearn.metrics import classification_report, confusion_matrix \n",
    "from sklearn.metrics import accuracy_score\n",
    "\n",
    "au11 = accuracy_score(uY_test, uy11)\n",
    "\n",
    "#print(classification_report(uY_test, uy1))\n",
    "#print(confusion_matrix(uY_test, uy1))\n",
    "print('accuracy of MLPNN:', au11)\n",
    "\n",
    "from sklearn.naive_bayes import GaussianNB\n",
    "\n",
    "unb1 = GaussianNB()\n",
    "unb1.fit(ud, uY_train)\n",
    "\n",
    "uy21 = unb1.predict(ut)\n",
    "au21 = accuracy_score(uY_test, uy21) \n",
    "\n",
    "#print(classification_report(uY_test, uy2))\n",
    "#print(confusion_matrix(uY_test, uy2))\n",
    "print('accuracy of NB:', au21)\n",
    "\n",
    "from sklearn.svm import SVC \n",
    "\n",
    "usvm1 = SVC()\n",
    "usvm1.fit(ud, uY_train)\n",
    "\n",
    "uy31 = usvm1.predict(ut)\n",
    "au31 = accuracy_score(uY_test, uy31)\n",
    "\n",
    "#print(classification_report(uY_test, uy3))\n",
    "#print(confusion_matrix(uY_test, uy3))\n",
    "print('accuracy of SVM:',au31)\n",
    "\n",
    "from sklearn.neighbors import KNeighborsClassifier\n",
    "\n",
    "uknn1 = KNeighborsClassifier(n_neighbors=5)\n",
    "uknn1.fit(ud, uY_train)\n",
    "\n",
    "uy41 = uknn1.predict(ut)\n",
    "au41 = accuracy_score(uY_test, uy41)\n",
    "\n",
    "#print(classification_report(uY_test, uy4))\n",
    "#print(confusion_matrix(uY_test, uy4))\n",
    "print('accuracy of KNN:', au41)\n",
    "\n",
    "from sklearn.tree import DecisionTreeClassifier, plot_tree, export_graphviz\n",
    "\n",
    "udt1 = DecisionTreeClassifier()\n",
    "udt1.fit(ud, uY_train)\n",
    "\n",
    "uy51 = udt1.predict(ut)\n",
    "au51 = accuracy_score(uY_test, uy51) \n",
    "\n",
    "#print(classification_report(uY_test, uy5))\n",
    "#print(confusion_matrix(uY_test, uy5))\n",
    "print('accuracy of DT:', au51)"
   ]
  },
  {
   "cell_type": "markdown",
   "metadata": {},
   "source": [
    "# Accuracy of predict policy with PCA = 5"
   ]
  },
  {
   "cell_type": "code",
   "execution_count": 91,
   "metadata": {},
   "outputs": [],
   "source": [
    "from sklearn.decomposition import PCA\n",
    "\n",
    "ppca = PCA(n_components=5)\n",
    "pd = ppca.fit_transform(pX_train)\n",
    "pt = ppca.fit_transform(pX_test)"
   ]
  },
  {
   "cell_type": "code",
   "execution_count": 92,
   "metadata": {},
   "outputs": [
    {
     "name": "stdout",
     "output_type": "stream",
     "text": [
      "accuracy of MLPNN: 0.9054382131585337\n",
      "accuracy of NB: 0.9019179412478757\n"
     ]
    },
    {
     "name": "stderr",
     "output_type": "stream",
     "text": [
      "/Library/Frameworks/Python.framework/Versions/3.7/lib/python3.7/site-packages/sklearn/svm/base.py:193: FutureWarning: The default value of gamma will change from 'auto' to 'scale' in version 0.22 to account better for unscaled features. Set gamma explicitly to 'auto' or 'scale' to avoid this warning.\n",
      "  \"avoid this warning.\", FutureWarning)\n"
     ]
    },
    {
     "name": "stdout",
     "output_type": "stream",
     "text": [
      "accuracy of SVM: 0.8862588006797767\n",
      "accuracy of KNN: 0.8997329448895363\n",
      "accuracy of DT: 0.8624666181111921\n"
     ]
    }
   ],
   "source": [
    "from sklearn.neural_network import MLPClassifier\n",
    "\n",
    "pml1 = MLPClassifier(activation = 'logistic', learning_rate = 'adaptive', max_iter = 1000, verbose = False)\n",
    "pml1.fit(pd, pY_train)\n",
    "\n",
    "py11 = pml1.predict(pt)\n",
    "\n",
    "from sklearn.metrics import classification_report, confusion_matrix \n",
    "from sklearn.metrics import accuracy_score\n",
    "\n",
    "ap11 = accuracy_score(pY_test, py11)\n",
    "\n",
    "#print(classification_report(uY_test, uy1))\n",
    "#print(confusion_matrix(uY_test, uy1))\n",
    "print('accuracy of MLPNN:', ap11)\n",
    "\n",
    "from sklearn.naive_bayes import GaussianNB\n",
    "\n",
    "pnb1 = GaussianNB()\n",
    "pnb1.fit(pd, pY_train)\n",
    "\n",
    "py21 = pnb1.predict(pt)\n",
    "ap21 = accuracy_score(pY_test, py21) \n",
    "\n",
    "#print(classification_report(uY_test, uy2))\n",
    "#print(confusion_matrix(uY_test, uy2))\n",
    "print('accuracy of NB:', ap21)\n",
    "\n",
    "from sklearn.svm import SVC \n",
    "\n",
    "psvm1 = SVC()\n",
    "psvm1.fit(pd, pY_train)\n",
    "\n",
    "py31 = psvm1.predict(pt)\n",
    "ap31 = accuracy_score(pY_test, py31)\n",
    "\n",
    "#print(classification_report(uY_test, uy3))\n",
    "#print(confusion_matrix(uY_test, uy3))\n",
    "print('accuracy of SVM:',ap31)\n",
    "\n",
    "from sklearn.neighbors import KNeighborsClassifier\n",
    "\n",
    "pknn1 = KNeighborsClassifier(n_neighbors=5)\n",
    "pknn1.fit(pd, pY_train)\n",
    "\n",
    "py41 = pknn1.predict(pt)\n",
    "ap41 = accuracy_score(pY_test, py41)\n",
    "\n",
    "#print(classification_report(uY_test, uy4))\n",
    "#print(confusion_matrix(uY_test, uy4))\n",
    "print('accuracy of KNN:', ap41)\n",
    "\n",
    "from sklearn.tree import DecisionTreeClassifier, plot_tree, export_graphviz\n",
    "\n",
    "pdt1 = DecisionTreeClassifier()\n",
    "pdt1.fit(pd, pY_train)\n",
    "\n",
    "py51 = pdt1.predict(pt)\n",
    "ap51 = accuracy_score(pY_test, py51) \n",
    "\n",
    "#print(classification_report(uY_test, uy5))\n",
    "#print(confusion_matrix(uY_test, uy5))\n",
    "print('accuracy of DT:', ap51)"
   ]
  },
  {
   "cell_type": "markdown",
   "metadata": {},
   "source": [
    "# Accuracy of drop policy with PCA = 5"
   ]
  },
  {
   "cell_type": "code",
   "execution_count": 93,
   "metadata": {},
   "outputs": [],
   "source": [
    "from sklearn.decomposition import PCA\n",
    "\n",
    "mpca = PCA(n_components=5)\n",
    "md = mpca.fit_transform(mX_train)\n",
    "mt = mpca.fit_transform(mX_test)"
   ]
  },
  {
   "cell_type": "code",
   "execution_count": 94,
   "metadata": {},
   "outputs": [
    {
     "name": "stdout",
     "output_type": "stream",
     "text": [
      "accuracy of MLPNN: 0.8893079698261726\n",
      "accuracy of NB: 0.884388324040669\n"
     ]
    },
    {
     "name": "stderr",
     "output_type": "stream",
     "text": [
      "/Library/Frameworks/Python.framework/Versions/3.7/lib/python3.7/site-packages/sklearn/svm/base.py:193: FutureWarning: The default value of gamma will change from 'auto' to 'scale' in version 0.22 to account better for unscaled features. Set gamma explicitly to 'auto' or 'scale' to avoid this warning.\n",
      "  \"avoid this warning.\", FutureWarning)\n"
     ]
    },
    {
     "name": "stdout",
     "output_type": "stream",
     "text": [
      "accuracy of SVM: 0.8693014102984585\n",
      "accuracy of KNN: 0.8781567727123647\n",
      "accuracy of DT: 0.8004263693014103\n"
     ]
    }
   ],
   "source": [
    "from sklearn.neural_network import MLPClassifier\n",
    "\n",
    "mml1 = MLPClassifier(activation = 'logistic', learning_rate = 'adaptive', max_iter = 1000, verbose = False)\n",
    "mml1.fit(md, mY_train)\n",
    "\n",
    "my11 = mml1.predict(mt)\n",
    "\n",
    "from sklearn.metrics import classification_report, confusion_matrix \n",
    "from sklearn.metrics import accuracy_score\n",
    "\n",
    "am11 = accuracy_score(mY_test, my11)\n",
    "\n",
    "#print(classification_report(uY_test, uy1))\n",
    "#print(confusion_matrix(uY_test, uy1))\n",
    "print('accuracy of MLPNN:', am11)\n",
    "\n",
    "from sklearn.naive_bayes import GaussianNB\n",
    "\n",
    "mnb1 = GaussianNB()\n",
    "mnb1.fit(md, mY_train)\n",
    "\n",
    "my21 = mnb1.predict(mt)\n",
    "am21 = accuracy_score(mY_test,my21) \n",
    "\n",
    "#print(classification_report(uY_test, uy2))\n",
    "#print(confusion_matrix(uY_test, uy2))\n",
    "print('accuracy of NB:', am21)\n",
    "\n",
    "from sklearn.svm import SVC \n",
    "\n",
    "msvm1 = SVC()\n",
    "msvm1.fit(md, mY_train)\n",
    "\n",
    "my31 = msvm1.predict(mt)\n",
    "am31 = accuracy_score(mY_test, my31)\n",
    "\n",
    "#print(classification_report(uY_test, uy3))\n",
    "#print(confusion_matrix(uY_test, uy3))\n",
    "print('accuracy of SVM:',am31)\n",
    "\n",
    "from sklearn.neighbors import KNeighborsClassifier\n",
    "\n",
    "mknn1 = KNeighborsClassifier(n_neighbors=5)\n",
    "mknn1.fit(md, mY_train)\n",
    "\n",
    "my41 = mknn1.predict(mt)\n",
    "am41 = accuracy_score(mY_test, my41)\n",
    "\n",
    "#print(classification_report(uY_test, uy4))\n",
    "#print(confusion_matrix(uY_test, uy4))\n",
    "print('accuracy of KNN:', am41)\n",
    "\n",
    "from sklearn.tree import DecisionTreeClassifier, plot_tree, export_graphviz\n",
    "\n",
    "mdt1 = DecisionTreeClassifier()\n",
    "mdt1.fit(md, mY_train)\n",
    "\n",
    "my51 = mdt1.predict(mt)\n",
    "am51 = accuracy_score(mY_test, my51) \n",
    "\n",
    "#print(classification_report(uY_test, uy5))\n",
    "#print(confusion_matrix(uY_test, uy5))\n",
    "print('accuracy of DT:', am51)"
   ]
  },
  {
   "cell_type": "markdown",
   "metadata": {},
   "source": [
    "# Accuracy plot of three policy with PCA"
   ]
  },
  {
   "cell_type": "code",
   "execution_count": 97,
   "metadata": {},
   "outputs": [
    {
     "data": {
      "image/png": "[encoded data removed]",
      "text/plain": [
       "<Figure size 576x360 with 1 Axes>"
      ]
     },
     "metadata": {
      "needs_background": "light"
     },
     "output_type": "display_data"
    }
   ],
   "source": [
    "import matplotlib.pyplot as plt\n",
    "\n",
    "x = [1, 2, 3 ,4 ,5 ]\n",
    "y11 = [au11, au21, au31, au41, au51]\n",
    "y21 = [ap11, ap21, ap31, ap41, ap51]\n",
    "y31 = [am11, am21, am31, am41, am51]\n",
    "\n",
    "plt.figure(figsize = (8, 5))\n",
    "plt.plot(x,y11,\"-\",x,y11,\"ro\",linewidth=1, label = 'Unknown') \n",
    "plt.plot(x,y21,\"--\", x,y21,\"bo\",linewidth=1, label = 'Predict') \n",
    "plt.plot(x,y31,\"-.\",x,y31,\"go\",linewidth=1, label = 'Drop') \n",
    "plt.xlabel(\"N model (PCA)\")   \n",
    "plt.ylabel(\"Accuracy\")   \n",
    "plt.title(\"MLPNN -> NB -> SVM -> KNN -> DT\")   \n",
    "plt.legend()\n",
    "plt.show()    "
   ]
  },
  {
   "cell_type": "markdown",
   "metadata": {},
   "source": [
    "# PCA comparison"
   ]
  },
  {
   "cell_type": "code",
   "execution_count": 100,
   "metadata": {},
   "outputs": [
    {
     "data": {
      "image/png": "[encoded data removed]",
      "text/plain": [
       "<Figure size 504x360 with 1 Axes>"
      ]
     },
     "metadata": {
      "needs_background": "light"
     },
     "output_type": "display_data"
    }
   ],
   "source": [
    "x1 = [1, 2, 3, 4, 5]\n",
    "uwp = [au1, au2, au3, au4, au5]\n",
    "up = [au11, au21, au31, au41, au51]\n",
    "\n",
    "plt.figure(figsize = (7, 5))\n",
    "plt.plot(x1,uwp,\"-\",x1,uwp,\"ro\",linewidth=1, label = 'without PCA') \n",
    "plt.plot(x1,up,\"--\", x1,up,\"bo\",linewidth=1, label = 'PCA') \n",
    "\n",
    "plt.xlabel(\"N model (unknown policy)\")  \n",
    "plt.ylabel(\"Accuracy\")  \n",
    "plt.title(\"MLPNN -> NB -> SVM -> KNN -> DT\") \n",
    "plt.legend()\n",
    "plt.show()  "
   ]
  },
  {
   "cell_type": "code",
   "execution_count": 101,
   "metadata": {},
   "outputs": [
    {
     "data": {
      "image/png": "[encoded data removed]",
      "text/plain": [
       "<Figure size 504x360 with 1 Axes>"
      ]
     },
     "metadata": {
      "needs_background": "light"
     },
     "output_type": "display_data"
    }
   ],
   "source": [
    "x2 = [1, 2, 3, 4, 5]\n",
    "pwp = [ap1, ap2, ap3, ap4, ap5]\n",
    "pp = [ap11, ap21, ap31, ap41, ap51]\n",
    "\n",
    "plt.figure(figsize = (7, 5))\n",
    "plt.plot(x2,pwp,\"-\",x2,pwp,\"ro\",linewidth=1, label = 'without PCA') \n",
    "plt.plot(x2,pp,\"--\", x2,pp,\"bo\",linewidth=1, label = 'PCA') \n",
    "\n",
    "plt.xlabel(\"N model (Prediction policy)\") \n",
    "plt.ylabel(\"Accuracy\")  \n",
    "plt.title(\"MLPNN -> NB -> SVM -> KNN -> DT\")\n",
    "plt.legend()\n",
    "plt.show()  "
   ]
  },
  {
   "cell_type": "code",
   "execution_count": 102,
   "metadata": {},
   "outputs": [
    {
     "data": {
      "image/png": "[encoded data removed]",
      "text/plain": [
       "<Figure size 504x360 with 1 Axes>"
      ]
     },
     "metadata": {
      "needs_background": "light"
     },
     "output_type": "display_data"
    }
   ],
   "source": [
    "x3 = [1, 2, 3, 4, 5]\n",
    "mwp = [am1, am2, am3, am4, am5]\n",
    "mp = [am11, am21, am31, am41, am51]\n",
    "\n",
    "plt.figure(figsize = (7, 5))\n",
    "plt.plot(x3,mwp,\"-\",x3,mwp,\"ro\",linewidth=1, label = 'without PCA') \n",
    "plt.plot(x3,mp,\"--\", x3,mp,\"bo\",linewidth=1, label = 'PCA') \n",
    "\n",
    "plt.xlabel(\"N model (Drop policy)\")  \n",
    "plt.ylabel(\"Accuracy\")   \n",
    "plt.title(\"MLPNN -> NB -> SVM -> KNN -> DT\") \n",
    "plt.legend()\n",
    "plt.show()  "
   ]
  },
  {
   "cell_type": "code",
   "execution_count": 108,
   "metadata": {},
   "outputs": [
    {
     "data": {
      "text/plain": [
       "'\\nx4 = [1, 2, 3 ,4 ,5 ]\\ny111 = [au11, au21, au31, au41, au51]\\ny222 = [ap11, ap21, ap31, ap41, ap51]\\ny333 = [am11, am21, am31, am41, am51]\\n\\ny1111 = [au1, au2, au3, au4, au5]\\ny2222 = [ap1, ap2, ap3, ap4, ap5]\\ny3333 = [am1, am2, am3, am4, am5]\\n\\nplt.figure(figsize = (10, 8))\\nplt.plot(x4,y111,x4,y111,linewidth=1, label = \\'Unknown(PCA)\\') \\nplt.plot(x4,y222, x4,y222,linewidth=1, label = \\'Predict(PCA)\\') \\nplt.plot(x4,y333,x4,y333,linewidth=1, label = \\'Drop(PCA)\\') \\n\\nplt.plot(x4,y1111,x4,y1111,linewidth=1, label = \\'Unknown\\') \\nplt.plot(x4,y2222, x4,y2222,linewidth=1, label = \\'Predict\\') \\nplt.plot(x4,y3333,x4,y3333,linewidth=1, label = \\'Drop\\') \\n\\nplt.xlabel(\"N model (PCA)\")  \\nplt.ylabel(\"Accuracy\")   \\nplt.title(\"MLPNN -> NB -> SVM -> KNN -> DT\") \\nplt.legend()\\nplt.show() \\n'"
      ]
     },
     "execution_count": 108,
     "metadata": {},
     "output_type": "execute_result"
    }
   ],
   "source": [
    "\"\"\"\n",
    "x4 = [1, 2, 3 ,4 ,5 ]\n",
    "y111 = [au11, au21, au31, au41, au51]\n",
    "y222 = [ap11, ap21, ap31, ap41, ap51]\n",
    "y333 = [am11, am21, am31, am41, am51]\n",
    "\n",
    "y1111 = [au1, au2, au3, au4, au5]\n",
    "y2222 = [ap1, ap2, ap3, ap4, ap5]\n",
    "y3333 = [am1, am2, am3, am4, am5]\n",
    "\n",
    "plt.figure(figsize = (10, 8))\n",
    "plt.plot(x4,y111,x4,y111,linewidth=1, label = 'Unknown(PCA)') \n",
    "plt.plot(x4,y222, x4,y222,linewidth=1, label = 'Predict(PCA)') \n",
    "plt.plot(x4,y333,x4,y333,linewidth=1, label = 'Drop(PCA)') \n",
    "\n",
    "plt.plot(x4,y1111,x4,y1111,linewidth=1, label = 'Unknown') \n",
    "plt.plot(x4,y2222, x4,y2222,linewidth=1, label = 'Predict') \n",
    "plt.plot(x4,y3333,x4,y3333,linewidth=1, label = 'Drop') \n",
    "\n",
    "plt.xlabel(\"N model (PCA)\")  \n",
    "plt.ylabel(\"Accuracy\")   \n",
    "plt.title(\"MLPNN -> NB -> SVM -> KNN -> DT\") \n",
    "plt.legend()\n",
    "plt.show() \n",
    "\"\"\""
   ]
  },
  {
   "cell_type": "markdown",
   "metadata": {},
   "source": [
    "# ROC"
   ]
  },
  {
   "cell_type": "code",
   "execution_count": 109,
   "metadata": {},
   "outputs": [],
   "source": [
    "ML1_score = uml.predict_proba(uX_test)\n",
    "NB1_score = unb.predict_proba(uX_test)\n",
    "SVM1_score = usvm.decision_function(uX_test)\n",
    "KNN1_score = uknn.predict_proba(uX_test)\n",
    "DT1_score = udt.predict_proba(uX_test)"
   ]
  },
  {
   "cell_type": "code",
   "execution_count": 111,
   "metadata": {},
   "outputs": [
    {
     "data": {
      "image/png": "[encoded data removed]",
      "text/plain": [
       "<Figure size 432x288 with 1 Axes>"
      ]
     },
     "metadata": {
      "needs_background": "light"
     },
     "output_type": "display_data"
    },
    {
     "data": {
      "image/png": "[encoded data removed]",
      "text/plain": [
       "<Figure size 432x288 with 1 Axes>"
      ]
     },
     "metadata": {
      "needs_background": "light"
     },
     "output_type": "display_data"
    },
    {
     "data": {
      "image/png": "[encoded data removed]",
      "text/plain": [
       "<Figure size 432x288 with 1 Axes>"
      ]
     },
     "metadata": {
      "needs_background": "light"
     },
     "output_type": "display_data"
    },
    {
     "data": {
      "image/png": "[encoded data removed]",
      "text/plain": [
       "<Figure size 432x288 with 1 Axes>"
      ]
     },
     "metadata": {
      "needs_background": "light"
     },
     "output_type": "display_data"
    },
    {
     "data": {
      "image/png": "[encoded data removed]",
      "text/plain": [
       "<Figure size 432x288 with 1 Axes>"
      ]
     },
     "metadata": {
      "needs_background": "light"
     },
     "output_type": "display_data"
    }
   ],
   "source": [
    "from sklearn.metrics import roc_curve, auc\n",
    "\n",
    "fpr = dict()\n",
    "tpr = dict()\n",
    "roc_auc = dict()\n",
    "for i in range(2):\n",
    "    fpr[i], tpr[i], _ = roc_curve(uY_test, ML1_score[:, i])\n",
    "    roc_auc[i] = auc(fpr[i], tpr[i])\n",
    "    \n",
    "lw = 1\n",
    "plt.plot(fpr[1], tpr[1], color='darkorange',\n",
    "         lw=lw, label='ROC curve (area = %0.2f)' % roc_auc[1])\n",
    "plt.plot([0, 1], [0, 1], color='navy', lw=lw, linestyle='--')\n",
    "plt.xlim([0.0, 1.0])\n",
    "plt.ylim([0.0, 1.05])\n",
    "plt.xlabel('False Positive Rate')\n",
    "plt.ylabel('True Positive Rate')\n",
    "plt.title('MLPNN-ROC')\n",
    "plt.legend(loc=\"lower right\")\n",
    "plt.show()\n",
    "\n",
    "fpr = dict()\n",
    "tpr = dict()\n",
    "roc_auc = dict()\n",
    "for i in range(2):\n",
    "    fpr[i], tpr[i], _ = roc_curve(uY_test, NB1_score[:, i])\n",
    "    roc_auc[i] = auc(fpr[i], tpr[i])\n",
    "    \n",
    "lw = 1\n",
    "plt.plot(fpr[1], tpr[1], color='darkorange',\n",
    "         lw=lw, label='ROC curve (area = %0.2f)' % roc_auc[1])\n",
    "plt.plot([0, 1], [0, 1], color='navy', lw=lw, linestyle='--')\n",
    "plt.xlim([0.0, 1.0])\n",
    "plt.ylim([0.0, 1.05])\n",
    "plt.xlabel('False Positive Rate')\n",
    "plt.ylabel('True Positive Rate')\n",
    "plt.title('NB-ROC')\n",
    "plt.legend(loc=\"lower right\")\n",
    "plt.show()\n",
    "\n",
    "fpr = dict()\n",
    "tpr = dict()\n",
    "roc_auc = dict()\n",
    "\n",
    "for i in range(2):\n",
    "    fpr[i], tpr[i], _ = roc_curve(uY_test, SVM1_score)\n",
    "    roc_auc[i] = auc(fpr[i], tpr[i])\n",
    "\n",
    "lw = 1\n",
    "plt.plot(fpr[1], tpr[1], color='darkorange',\n",
    "         lw=lw, label='ROC curve (area = %0.2f)' % roc_auc[1])\n",
    "plt.plot([0, 1], [0, 1], color='navy', lw=lw, linestyle='--')\n",
    "plt.xlim([0.0, 1.0])\n",
    "plt.ylim([0.0, 1.05])\n",
    "plt.xlabel('False Positive Rate')\n",
    "plt.ylabel('True Positive Rate')\n",
    "plt.title('SVM-ROC')\n",
    "plt.legend(loc=\"lower right\")\n",
    "plt.show()\n",
    "\n",
    "fpr = dict()\n",
    "tpr = dict()\n",
    "roc_auc = dict()\n",
    "\n",
    "for i in range(2):\n",
    "    fpr[i], tpr[i], _ = roc_curve(uY_test, KNN1_score[:, i])\n",
    "    roc_auc[i] = auc(fpr[i], tpr[i])\n",
    "\n",
    "lw = 1\n",
    "plt.plot(fpr[1], tpr[1], color='darkorange',\n",
    "         lw=lw, label='ROC curve (area = %0.2f)' % roc_auc[1])\n",
    "plt.plot([0, 1], [0, 1], color='navy', lw=lw, linestyle='--')\n",
    "plt.xlim([0.0, 1.0])\n",
    "plt.ylim([0.0, 1.05])\n",
    "plt.xlabel('False Positive Rate')\n",
    "plt.ylabel('True Positive Rate')\n",
    "plt.title('KNN-ROC')\n",
    "plt.legend(loc=\"lower right\")\n",
    "plt.show()\n",
    "\n",
    "fpr = dict()\n",
    "tpr = dict()\n",
    "roc_auc = dict()\n",
    "\n",
    "for i in range(2):\n",
    "    fpr[i], tpr[i], _ = roc_curve(uY_test, DT1_score[:, i])\n",
    "    roc_auc[i] = auc(fpr[i], tpr[i])\n",
    "\n",
    "lw = 1\n",
    "plt.plot(fpr[1], tpr[1], color='darkorange',\n",
    "         lw=lw, label='ROC curve (area = %0.2f)' % roc_auc[1])\n",
    "plt.plot([0, 1], [0, 1], color='navy', lw=lw, linestyle='--')\n",
    "plt.xlim([0.0, 1.0])\n",
    "plt.ylim([0.0, 1.05])\n",
    "plt.xlabel('False Positive Rate')\n",
    "plt.ylabel('True Positive Rate')\n",
    "plt.title('DT-ROC')\n",
    "plt.legend(loc=\"lower right\")\n",
    "plt.show()"
   ]
  },
  {
   "cell_type": "code",
   "execution_count": null,
   "metadata": {},
   "outputs": [],
   "source": []
  }
 ],
 "metadata": {
  "kernelspec": {
   "display_name": "Python 3",
   "language": "python",
   "name": "python3"
  },
  "language_info": {
   "codemirror_mode": {
    "name": "ipython",
    "version": 3
   },
   "file_extension": ".py",
   "mimetype": "text/x-python",
   "name": "python",
   "nbconvert_exporter": "python",
   "pygments_lexer": "ipython3",
   "version": "3.7.2"
  }
 },
 "nbformat": 4,
 "nbformat_minor": 2
}
